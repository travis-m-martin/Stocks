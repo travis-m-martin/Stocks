{
 "cells": [
  {
   "cell_type": "code",
   "execution_count": 1,
   "id": "2e52fe5f",
   "metadata": {},
   "outputs": [],
   "source": [
    "#wikipedia list of companies\n",
    "#https://en.wikipedia.org/wiki/Lists_of_companies_listed_on_the_New_York_Stock_Exchange\n",
    "\n",
    "#all companies traded on nyse\n",
    "#https://www.nasdaq.com/market-activity/stocks/screener\n",
    "\n",
    "#opening_bell = 9:30 AM ET\n",
    "#closing_bell = 4:00 PM ET\n",
    "\n",
    "#yahoo finance api doc\n",
    "#https://python-yahoofinance.readthedocs.io/en/latest/api.html# \n",
    "#https://pypi.org/project/yfinance/\n",
    "\n",
    "\n",
    "import pandas as pd\n",
    "import numpy as np\n",
    "import datetime\n",
    "import yfinance as yf\n",
    "\n",
    "df = pd.read_csv('stock_tickers/nasdaq_screener_1712527070153.csv')\n",
    "res = pd.Timestamp.today()\n",
    "#display(df.head())\n",
    "#print(res)"
   ]
  },
  {
   "cell_type": "code",
   "execution_count": 2,
   "id": "13438533-5473-4f76-adab-89fbe9a87f46",
   "metadata": {},
   "outputs": [
    {
     "name": "stderr",
     "output_type": "stream",
     "text": [
      "ECC           : No data found, symbol may be delisted\n",
      "ETX           : No data found, symbol may be delisted\n",
      "FEI           : No data found, symbol may be delisted\n",
      "NGM: No data found, symbol may be delisted\n",
      "PPHPR: No data found, symbol may be delisted\n",
      "SAND          : No data found, symbol may be delisted\n",
      "SCTL: No data found, symbol may be delisted\n",
      "STRC: No data found, symbol may be delisted\n",
      "STRCW: No data found, symbol may be delisted\n"
     ]
    },
    {
     "data": {
      "text/html": [
       "<div>\n",
       "<style scoped>\n",
       "    .dataframe tbody tr th:only-of-type {\n",
       "        vertical-align: middle;\n",
       "    }\n",
       "\n",
       "    .dataframe tbody tr th {\n",
       "        vertical-align: top;\n",
       "    }\n",
       "\n",
       "    .dataframe thead th {\n",
       "        text-align: right;\n",
       "    }\n",
       "</style>\n",
       "<table border=\"1\" class=\"dataframe\">\n",
       "  <thead>\n",
       "    <tr style=\"text-align: right;\">\n",
       "      <th></th>\n",
       "      <th>Open</th>\n",
       "      <th>High</th>\n",
       "      <th>Low</th>\n",
       "      <th>Close</th>\n",
       "      <th>Volume</th>\n",
       "      <th>Dividends</th>\n",
       "      <th>Stock Splits</th>\n",
       "      <th>Symbol</th>\n",
       "      <th>Capital Gains</th>\n",
       "      <th>Adj Close</th>\n",
       "    </tr>\n",
       "    <tr>\n",
       "      <th>Date</th>\n",
       "      <th></th>\n",
       "      <th></th>\n",
       "      <th></th>\n",
       "      <th></th>\n",
       "      <th></th>\n",
       "      <th></th>\n",
       "      <th></th>\n",
       "      <th></th>\n",
       "      <th></th>\n",
       "      <th></th>\n",
       "    </tr>\n",
       "  </thead>\n",
       "  <tbody>\n",
       "    <tr>\n",
       "      <th>2024-03-28 00:00:00-04:00</th>\n",
       "      <td>147.300693</td>\n",
       "      <td>147.440465</td>\n",
       "      <td>145.124236</td>\n",
       "      <td>145.273987</td>\n",
       "      <td>2176500.0</td>\n",
       "      <td>0.000</td>\n",
       "      <td>0.0</td>\n",
       "      <td>A</td>\n",
       "      <td>NaN</td>\n",
       "      <td>NaN</td>\n",
       "    </tr>\n",
       "    <tr>\n",
       "      <th>2024-04-01 00:00:00-04:00</th>\n",
       "      <td>146.179993</td>\n",
       "      <td>146.500000</td>\n",
       "      <td>144.419998</td>\n",
       "      <td>145.559998</td>\n",
       "      <td>968300.0</td>\n",
       "      <td>0.236</td>\n",
       "      <td>0.0</td>\n",
       "      <td>A</td>\n",
       "      <td>NaN</td>\n",
       "      <td>NaN</td>\n",
       "    </tr>\n",
       "    <tr>\n",
       "      <th>2024-04-02 00:00:00-04:00</th>\n",
       "      <td>144.020004</td>\n",
       "      <td>144.330002</td>\n",
       "      <td>142.589996</td>\n",
       "      <td>144.169998</td>\n",
       "      <td>1376500.0</td>\n",
       "      <td>0.000</td>\n",
       "      <td>0.0</td>\n",
       "      <td>A</td>\n",
       "      <td>NaN</td>\n",
       "      <td>NaN</td>\n",
       "    </tr>\n",
       "    <tr>\n",
       "      <th>2024-04-03 00:00:00-04:00</th>\n",
       "      <td>143.770004</td>\n",
       "      <td>144.850006</td>\n",
       "      <td>142.789993</td>\n",
       "      <td>143.729996</td>\n",
       "      <td>1211200.0</td>\n",
       "      <td>0.000</td>\n",
       "      <td>0.0</td>\n",
       "      <td>A</td>\n",
       "      <td>NaN</td>\n",
       "      <td>NaN</td>\n",
       "    </tr>\n",
       "    <tr>\n",
       "      <th>2024-04-04 00:00:00-04:00</th>\n",
       "      <td>145.119995</td>\n",
       "      <td>145.259995</td>\n",
       "      <td>141.130005</td>\n",
       "      <td>141.339996</td>\n",
       "      <td>1183900.0</td>\n",
       "      <td>0.000</td>\n",
       "      <td>0.0</td>\n",
       "      <td>A</td>\n",
       "      <td>NaN</td>\n",
       "      <td>NaN</td>\n",
       "    </tr>\n",
       "  </tbody>\n",
       "</table>\n",
       "</div>"
      ],
      "text/plain": [
       "                                 Open        High         Low       Close  \\\n",
       "Date                                                                        \n",
       "2024-03-28 00:00:00-04:00  147.300693  147.440465  145.124236  145.273987   \n",
       "2024-04-01 00:00:00-04:00  146.179993  146.500000  144.419998  145.559998   \n",
       "2024-04-02 00:00:00-04:00  144.020004  144.330002  142.589996  144.169998   \n",
       "2024-04-03 00:00:00-04:00  143.770004  144.850006  142.789993  143.729996   \n",
       "2024-04-04 00:00:00-04:00  145.119995  145.259995  141.130005  141.339996   \n",
       "\n",
       "                              Volume  Dividends  Stock Splits Symbol  \\\n",
       "Date                                                                   \n",
       "2024-03-28 00:00:00-04:00  2176500.0      0.000           0.0      A   \n",
       "2024-04-01 00:00:00-04:00   968300.0      0.236           0.0      A   \n",
       "2024-04-02 00:00:00-04:00  1376500.0      0.000           0.0      A   \n",
       "2024-04-03 00:00:00-04:00  1211200.0      0.000           0.0      A   \n",
       "2024-04-04 00:00:00-04:00  1183900.0      0.000           0.0      A   \n",
       "\n",
       "                           Capital Gains  Adj Close  \n",
       "Date                                                 \n",
       "2024-03-28 00:00:00-04:00            NaN        NaN  \n",
       "2024-04-01 00:00:00-04:00            NaN        NaN  \n",
       "2024-04-02 00:00:00-04:00            NaN        NaN  \n",
       "2024-04-03 00:00:00-04:00            NaN        NaN  \n",
       "2024-04-04 00:00:00-04:00            NaN        NaN  "
      ]
     },
     "metadata": {},
     "output_type": "display_data"
    }
   ],
   "source": [
    "all_stocks = pd.DataFrame()\n",
    "\n",
    "for item in df['Symbol'].tolist():\n",
    "    if isinstance(item, str):\n",
    "        if \"^\" not in item:\n",
    "\n",
    "            #print(information.info.keys())\n",
    "            #new_row = pd.DataFrame(information.info)\n",
    "            #print(item)\n",
    "            try:\n",
    "                information = yf.Ticker(item)\n",
    "                new_row = information.history(period=\"50d\")\n",
    "                #display(new_row)\n",
    "                new_row['Symbol'] = item\n",
    "                #new_row['overallRisk'] = information.info[\"overallRisk\"]\n",
    "                #new_row['fullTimeEmployees'] = information.info[\"fullTimeEmployees\"]\n",
    "                #new_row['regularMarketPreviousClose'] = information.info[\"regularMarketPreviousClose\"]\n",
    "                #new_row['regularMarketOpen'] = information.info[\"regularMarketOpen\"]\n",
    "                #new_row['regularMarketDayLow'] = information.info[\"regularMarketDayLow\"]\n",
    "                #new_row['regularMarketDayHigh'] = information.info[\"regularMarketDayHigh\"]\n",
    "                #new_row['marketCap'] = information.info[\"marketCap\"]\n",
    "                #new_row['fiftyTwoWeekLow'] = information.info[\"fiftyTwoWeekLow\"]\n",
    "                #new_row['fiftyTwoWeekHigh'] = information.info[\"fiftyTwoWeekHigh\"]\n",
    "                #new_row['fiftyDayAverage'] = information.info[\"fiftyDayAverage\"]\n",
    "                #new_row['twoHundredDayAverage'] = information.info[\"twoHundredDayAverage\"]\n",
    "                #new_row['regularMarketVolume'] = information.info[\"regularMarketVolume\"]\n",
    "                #new_row['averageVolume'] = information.info[\"averageVolume\"]\n",
    "                #new_row['averageDailyVolume10Day'] = information.info[\"averageDailyVolume10Day\"]\n",
    "                all_stocks = pd.concat([all_stocks, new_row], ignore_index=False, axis=0)\n",
    "\n",
    "            except:\n",
    "                pass\n",
    "\n",
    "            \n",
    "            \n",
    "            \n",
    "            #display(information.history(period=\"1d\"))\n",
    "\n",
    "    #display(all_stocks)\n",
    "    #data = yf.download(item, start=res, end=res)\n",
    "display(all_stocks.head())"
   ]
  },
  {
   "cell_type": "code",
   "execution_count": 11,
   "id": "dd963825-427f-434d-b9df-8e9d5bda275e",
   "metadata": {},
   "outputs": [],
   "source": [
    "all_stocks_copy = all_stocks.copy()\n",
    "\n",
    "#all_stocks_copy = all_stocks_copy.drop(columns=['Dividends'])\n",
    "#all_stocks_copy = all_stocks_copy.drop(columns=['Stock Splits'])\n",
    "#all_stocks_copy = all_stocks_copy.drop(columns=['Adj Close'])\n",
    "#all_stocks_copy['Day Change'] = all_stocks_copy['High'] - all_stocks_copy['Low']\n",
    "#all_stocks_copy['Volatility'] = all_stocks_copy['Day Change'] / all_stocks_copy['Volume']\n",
    "#all_stocks_copy['emp_rat'] = all_stocks_copy['fullTimeEmployees']/all_stocks_copy['marketCap']\n",
    "#all_stocks_copy['buy num'] = 11 - all_stocks_copy['overallRisk']\n",
    "\n",
    "#display(all_stocks_copy.head())\n",
    "#display(all_stocks_copy['overallRisk'].value_counts())"
   ]
  },
  {
   "cell_type": "code",
   "execution_count": 12,
   "id": "3ba1b7f0-5fb5-465e-9a2b-12d492774390",
   "metadata": {},
   "outputs": [],
   "source": [
    "#low_bound = all_stocks_copy['emp_rat'].quantile(0.25)\n",
    "#upper_bound = all_stocks_copy['emp_rat'].quantile(0.75)\n",
    "\n",
    "#all_stocks_copy['buy'] = np.where(((all_stocks_copy['Close'] < all_stocks_copy['fiftyDayAverage']*.9) &  (all_stocks_copy['Close'] > all_stocks_copy['fiftyDayAverage']*.85)\n",
    " #                                 & (all_stocks_copy['emp_rat'] < upper_bound) & (all_stocks_copy['emp_rat'] > low_bound)), True, False)\n",
    "\n",
    "#display(all_stocks_copy)"
   ]
  },
  {
   "cell_type": "code",
   "execution_count": 13,
   "id": "fddbc744-ee89-44bb-8e44-56bf0fd1794e",
   "metadata": {},
   "outputs": [],
   "source": [
    "#all_stocks_copy = all_stocks_copy.drop(columns=['Open'])\n",
    "#all_stocks_copy = all_stocks_copy.drop(columns=['High'])\n",
    "#all_stocks_copy = all_stocks_copy.drop(columns=['Low'])\n",
    "#all_stocks_copy = all_stocks_copy.drop(columns=['Volume'])\n",
    "#all_stocks_copy = all_stocks_copy.drop(columns=['overallRisk'])\n",
    "#all_stocks_copy = all_stocks_copy.drop(columns=['fullTimeEmployees'])\n",
    "#all_stocks_copy = all_stocks_copy.drop(columns=['regularMarketOpen'])\n",
    "#all_stocks_copy = all_stocks_copy.drop(columns=['regularMarketVolume'])\n",
    "#all_stocks_copy = all_stocks_copy.drop(columns=['averageVolume'])\n",
    "#all_stocks_copy = all_stocks_copy.drop(columns=['averageDailyVolume10Day'])\n",
    "#all_stocks_copy = all_stocks_copy.drop(columns=['Day Change'])\n",
    "#all_stocks_copy = all_stocks_copy.drop(columns=['Volatility'])\n",
    "#all_stocks_copy = all_stocks_copy.drop(columns=['regularMarketDayLow'])\n",
    "#all_stocks_copy = all_stocks_copy.drop(columns=['regularMarketDayHigh'])\n",
    "#all_stocks_copy = all_stocks_copy.drop(columns=['marketCap'])\n",
    "#all_stocks_copy = all_stocks_copy.drop(columns=['emp_rat'])\n",
    "\n",
    "#display(all_stocks_copy[all_stocks_copy['buy']==True])"
   ]
  },
  {
   "cell_type": "code",
   "execution_count": 14,
   "id": "625824ca-ca04-41a4-873f-41ad1c442ff6",
   "metadata": {},
   "outputs": [],
   "source": [
    "#file_name = 'Stock buys.xlsx'\n",
    "#all_stocks_copy.to_excel(file_name)\n",
    "\n",
    "all_stocks_copy.to_csv('Stock buys.csv', index=True)\n",
    "\n",
    "\n",
    "#datatoexcel = pd.ExcelWriter('Stock buys.xlsx')\n",
    " \n",
    "# write DataFrame to excel\n",
    "#all_stocks_copy[all_stocks_copy['buy']==True].to_excel(datatoexcel)\n",
    "#all_stocks_copy.to_excel(datatoexcel)\n",
    "\n",
    " \n",
    "# save the excel\n",
    "#datatoexcel.close()"
   ]
  },
  {
   "cell_type": "code",
   "execution_count": null,
   "id": "e18d6ec5-164f-4d36-8f5c-8f8e95b70816",
   "metadata": {},
   "outputs": [],
   "source": []
  },
  {
   "cell_type": "code",
   "execution_count": null,
   "id": "a46f79fd-7ed0-4381-8d1d-76656eb6e01a",
   "metadata": {},
   "outputs": [],
   "source": []
  },
  {
   "cell_type": "code",
   "execution_count": null,
   "id": "1dc73066-5ab6-432f-a874-9e4d0b230266",
   "metadata": {},
   "outputs": [],
   "source": [
    "import os\n",
    "import pandas as pd\n",
    "import numpy as np\n",
    "for file in os.listdir(\"/Users/hisho/Desktop/stocks\"):\n",
    "    if file.endswith(\".xlsx\"):\n",
    "        indata = pd.read_excel(os.path.join(file))\n",
    "        indata = indata.drop(columns=['Unnamed: 0'])\n",
    "        \n",
    "        #print(os.path.join(file))\n",
    "        #display(indata.shape)\n",
    "        #display(indata.head())\n",
    "        #display(indata.columns)\n",
    "        #display(sum(indata['fiftyDayAverage'] - indata['Close']))\n",
    "        #display(sum(indata['buy num']*indata['Close']))\n",
    "        display(sum(indata['buy num']*indata['fiftyDayAverage'] - indata['Close']*indata['buy num']))\n",
    "        "
   ]
  },
  {
   "cell_type": "code",
   "execution_count": null,
   "id": "b4bfe82b-18d8-4ff4-8fa3-be453a1a5719",
   "metadata": {},
   "outputs": [],
   "source": [
    "display(indata.columns)"
   ]
  },
  {
   "cell_type": "code",
   "execution_count": null,
   "id": "4ada9342-80be-4108-b160-eb9446630794",
   "metadata": {},
   "outputs": [],
   "source": []
  },
  {
   "cell_type": "code",
   "execution_count": null,
   "id": "b70f845e-5060-467f-91ad-c6bddb7ecf29",
   "metadata": {},
   "outputs": [],
   "source": []
  },
  {
   "cell_type": "code",
   "execution_count": null,
   "id": "305a7bfa-8f6a-4b4f-9a6d-2b39566d3fd6",
   "metadata": {},
   "outputs": [],
   "source": [
    "import pandas as pd\n",
    "import numpy as np\n",
    "import datetime\n",
    "import yfinance as yf\n",
    "import matplotlib.pyplot as plt\n",
    "from sklearn.linear_model import LinearRegression\n",
    "\n",
    "df = pd.read_csv('stock_tickers/nasdaq_screener_1712527070153.csv')\n",
    "#display(df['Symbol'].tolist())\n",
    "\n",
    "item = 'AACG'\n",
    "item2 = 'AAME'\n",
    "\n",
    "information = yf.Ticker(item)\n",
    "new_row = information.history(period=\"50d\")\n",
    "new_row['stock'] = item\n",
    "#display(new_row)\n",
    "\n",
    "information = yf.Ticker(item2)\n",
    "new_row2 = information.history(period=\"50d\")\n",
    "new_row2['stock'] = item2\n",
    "#display(new_row2)\n",
    "\n",
    "\n",
    "\n",
    "#for key in information.info.keys():\n",
    " #   display(key)\n",
    "\n",
    "#new_row['Open'].plot()\n",
    "#slope = (new_row['Open'].max() - new_row['Open'].min())/50\n",
    "#plt.show()\n",
    "\n",
    "#print(slope)\n",
    "\n",
    "#reg = LinearRegression().fit(np.arange(50).reshape(-1, 1), new_row['Open'])\n",
    "#display(reg.score(np.arange(50).reshape(-1, 1), new_row['Open']))\n",
    "#display(reg.coef_[0])\n",
    "#display(reg.intercept_)\n",
    "\n",
    "#all_stocks = pd.merge(new_row, new_row2, on='Date')\n",
    "#display(all_stocks)\n",
    "\n",
    "all_stocks = pd.concat([new_row, new_row2], axis=0)\n",
    "display(all_stocks)"
   ]
  },
  {
   "cell_type": "code",
   "execution_count": null,
   "id": "4ead317d-9e24-4300-94f3-53f02ebdaa0c",
   "metadata": {},
   "outputs": [],
   "source": []
  },
  {
   "cell_type": "code",
   "execution_count": null,
   "id": "3efc2627-e6dd-4253-9767-03a1ffd6cb96",
   "metadata": {},
   "outputs": [],
   "source": []
  },
  {
   "cell_type": "code",
   "execution_count": null,
   "id": "642b283e-2247-4a1c-95f0-e431a6f15fc3",
   "metadata": {},
   "outputs": [],
   "source": []
  },
  {
   "cell_type": "code",
   "execution_count": null,
   "id": "32e932f0",
   "metadata": {},
   "outputs": [],
   "source": [
    "\n",
    "import yfinance as yf\n",
    "\n",
    "data = yf.download(\"AAPL\", start=\"2020-01-01\", end=\"2021-01-01\")\n",
    "display(data)"
   ]
  },
  {
   "cell_type": "code",
   "execution_count": null,
   "id": "963eeae1",
   "metadata": {},
   "outputs": [],
   "source": [
    "apple = yf.Ticker(\"AAPL\")\n",
    "#print(apple.info)  # General information about Apple Inc.\n",
    "print(apple.info.keys())\n",
    "#print(apple.info[\"overallRisk\"])\n",
    "#print(apple.info[\"fullTimeEmployees\"])\n",
    "#print(apple.info[\"regularMarketPreviousClose\"])\n",
    "#print(apple.info[\"regularMarketOpen\"])\n",
    "#print(apple.info[\"regularMarketDayLow\"])\n",
    "#print(apple.info[\"regularMarketDayHigh\"])\n",
    "#print(apple.info[\"marketCap\"])\n",
    "#print(apple.info[\"fiftyTwoWeekLow\"])\n",
    "#print(apple.info[\"fiftyTwoWeekHigh\"])\n",
    "#print(apple.info[\"fiftyDayAverage\"])\n",
    "#print(apple.info[\"twoHundredDayAverage\"])\n",
    "#print(apple.info[\"regularMarketVolume\"])\n",
    "#print(apple.info[\"averageVolume\"])\n",
    "#print(apple.info[\"averageDailyVolume10Day\"])\n",
    "#print(dir(apple))\n",
    "\n"
   ]
  },
  {
   "cell_type": "code",
   "execution_count": null,
   "id": "92a7a4c8-6c49-41fb-8a86-d652db0e4343",
   "metadata": {},
   "outputs": [],
   "source": [
    "recent_data = yf.download(\"AAPL\", period=\"5d\")\n",
    "display(recent_data)"
   ]
  },
  {
   "cell_type": "code",
   "execution_count": null,
   "id": "e38d984e-4663-4e94-b151-6936e1ebd081",
   "metadata": {},
   "outputs": [],
   "source": [
    "multi_data = yf.download([\"AAPL\", \"MSFT\"], start=\"2020-01-01\", end=\"2021-01-01\")\n",
    "display(multi_data)"
   ]
  },
  {
   "cell_type": "code",
   "execution_count": null,
   "id": "66a58238-1e51-4bce-b260-ef63d89e3625",
   "metadata": {},
   "outputs": [],
   "source": [
    "data = yf.download(\"AAPL\", start=\"2020-01-01\", end=\"2021-01-01\", auto_adjust=True)\n",
    "print(data['Close'])  # This will show the adjusted close prices"
   ]
  },
  {
   "cell_type": "code",
   "execution_count": null,
   "id": "936288ca-28e0-4e31-935a-f6fe10a4d091",
   "metadata": {},
   "outputs": [],
   "source": [
    "weekly_data = yf.download(\"AAPL\", start=\"2020-01-01\", end=\"2021-01-01\", interval=\"1wk\")\n",
    "print(weekly_data)"
   ]
  },
  {
   "cell_type": "code",
   "execution_count": null,
   "id": "0f0704f4-62ff-4c4e-89b8-b9c87ce1490f",
   "metadata": {},
   "outputs": [],
   "source": [
    "apple = yf.Ticker(\"AAPL\")\n",
    "dividends = apple.dividends\n",
    "splits = apple.splits\n",
    "print(dividends, splits)"
   ]
  },
  {
   "cell_type": "code",
   "execution_count": null,
   "id": "50171cd9-d8fb-4b57-b522-4bb04dd95adc",
   "metadata": {},
   "outputs": [],
   "source": [
    "apple = yf.Ticker(\"AAPL\")\n",
    "display(apple.history(period=\"1d\"))"
   ]
  },
  {
   "cell_type": "code",
   "execution_count": null,
   "id": "7540d905-4425-4789-af10-17914f9075f2",
   "metadata": {},
   "outputs": [],
   "source": [
    "data = yf.download(\"AAPL\", start=\"2022-01-01\", end=\"2022-12-31\")\n",
    "display(data)"
   ]
  },
  {
   "cell_type": "code",
   "execution_count": null,
   "id": "c2c0da8f-788d-42a1-96e2-d9003d0fcfaa",
   "metadata": {},
   "outputs": [],
   "source": [
    "import matplotlib.pyplot as plt\n",
    "\n",
    "data = yf.download(\"AAPL\", start=\"2020-01-01\", end=\"2021-01-01\")\n",
    "data['Close'].plot()\n",
    "plt.title(\"Apple Stock Prices\")\n",
    "plt.show()"
   ]
  },
  {
   "cell_type": "code",
   "execution_count": null,
   "id": "a7334005-fd77-49b9-9fa8-c2e6bf878769",
   "metadata": {},
   "outputs": [],
   "source": []
  },
  {
   "cell_type": "code",
   "execution_count": null,
   "id": "1910c111-5433-4cd4-9c3f-a06b1aff127a",
   "metadata": {},
   "outputs": [],
   "source": []
  },
  {
   "cell_type": "code",
   "execution_count": null,
   "id": "ff51087d-e1e1-4356-8152-9f79a211e3f2",
   "metadata": {},
   "outputs": [],
   "source": []
  },
  {
   "cell_type": "code",
   "execution_count": null,
   "id": "73db28d4-dccd-44ee-96a9-d19f593d5719",
   "metadata": {},
   "outputs": [],
   "source": [
    "\n",
    "\n"
   ]
  },
  {
   "cell_type": "code",
   "execution_count": null,
   "id": "ffb61994-523c-4018-b074-b3688859647c",
   "metadata": {},
   "outputs": [],
   "source": []
  },
  {
   "cell_type": "code",
   "execution_count": null,
   "id": "c43feaf5-0743-4941-b4da-187780e3fb71",
   "metadata": {},
   "outputs": [],
   "source": []
  },
  {
   "cell_type": "code",
   "execution_count": null,
   "id": "433b75d2-0624-4dd5-8790-c731034c1bce",
   "metadata": {},
   "outputs": [],
   "source": []
  },
  {
   "cell_type": "code",
   "execution_count": null,
   "id": "b544d1b5-b075-4aa6-9cd6-7b667cb80624",
   "metadata": {},
   "outputs": [],
   "source": []
  },
  {
   "cell_type": "code",
   "execution_count": null,
   "id": "1fc1b173-5ecf-4677-94d4-a1aee7467179",
   "metadata": {},
   "outputs": [],
   "source": []
  },
  {
   "cell_type": "code",
   "execution_count": null,
   "id": "fba7ee4e-0fff-4139-920d-e022dffa89ec",
   "metadata": {},
   "outputs": [],
   "source": []
  },
  {
   "cell_type": "code",
   "execution_count": null,
   "id": "7aa9f0e4-846e-4c8a-87fa-58cea2edd50d",
   "metadata": {},
   "outputs": [],
   "source": []
  },
  {
   "cell_type": "code",
   "execution_count": null,
   "id": "2303c4b0-e859-48b0-88d2-7201d478b7bb",
   "metadata": {},
   "outputs": [],
   "source": []
  },
  {
   "cell_type": "code",
   "execution_count": null,
   "id": "7a4a3dc0-1f9a-4c49-95bf-490bfd0a9141",
   "metadata": {},
   "outputs": [],
   "source": []
  },
  {
   "cell_type": "code",
   "execution_count": null,
   "id": "dce81946-46f6-4f7d-a2e1-5e366eaf66a4",
   "metadata": {},
   "outputs": [],
   "source": []
  },
  {
   "cell_type": "code",
   "execution_count": null,
   "id": "bdeb98a9-c36a-46dc-8e9e-607c60e3408d",
   "metadata": {},
   "outputs": [],
   "source": []
  },
  {
   "cell_type": "code",
   "execution_count": null,
   "id": "dfc194e8-426b-4f76-ad37-59c7f5ea6b63",
   "metadata": {},
   "outputs": [],
   "source": [
    "all_stocks_compare = all_stocks.copy()\n",
    "#indata = pd.read_excel('Stock buys-4-16-24.xlsx')\n",
    "#indata = pd.read_excel('Stock buys-4-17-24.xlsx')\n",
    "#indata = pd.read_excel('Stock buys-4-17-24-alt.xlsx')\n",
    "#indata = pd.read_excel('Stock buys-4-18-24.xlsx')\n",
    "#indata = pd.read_excel('Stock buys-4-19-24.xlsx')\n",
    "indata = pd.read_excel('Stock buys-4-22-24.xlsx')\n",
    "\n",
    "\n",
    "indata = indata.drop(columns=['Unnamed: 0'])\n",
    "display(indata)\n",
    "display(all_stocks_compare)"
   ]
  },
  {
   "cell_type": "code",
   "execution_count": null,
   "id": "266bad00-509f-4dff-a21b-960ff0bafe1c",
   "metadata": {},
   "outputs": [],
   "source": [
    "mask = all_stocks_compare[all_stocks_compare['Symbol'].isin(indata['Symbol'])]\n",
    "\n",
    "indata = indata.merge(mask, left_on='Symbol', right_on='Symbol')\n",
    "display(indata.head())"
   ]
  },
  {
   "cell_type": "code",
   "execution_count": null,
   "id": "90fe2c04-f5a6-4c7f-b4dd-6fbdabec2157",
   "metadata": {},
   "outputs": [],
   "source": [
    "indata = indata.drop(columns=['Open_x'])\n",
    "indata = indata.drop(columns=['Volume_x'])\n",
    "indata = indata.drop(columns=['overallRisk_x'])\n",
    "indata = indata.drop(columns=['fullTimeEmployees_x'])\n",
    "indata = indata.drop(columns=['regularMarketOpen_x'])\n",
    "indata = indata.drop(columns=['regularMarketVolume_x'])\n",
    "indata = indata.drop(columns=['averageVolume_x'])\n",
    "indata = indata.drop(columns=['averageDailyVolume10Day_x'])\n",
    "indata = indata.drop(columns=['regularMarketPreviousClose_x'])\n",
    "indata = indata.drop(columns=['fiftyTwoWeekLow_x'])\n",
    "indata = indata.drop(columns=['fiftyTwoWeekHigh_x'])\n",
    "indata = indata.drop(columns=['fiftyDayAverage_x'])\n",
    "indata = indata.drop(columns=['twoHundredDayAverage_x'])\n",
    "\n",
    "indata = indata.drop(columns=['Close_y'])\n",
    "indata = indata.drop(columns=['Dividends'])\n",
    "indata = indata.drop(columns=['Stock Splits'])\n",
    "indata = indata.drop(columns=['regularMarketPreviousClose_y'])\n",
    "indata = indata.drop(columns=['regularMarketDayLow_y'])\n",
    "indata = indata.drop(columns=['regularMarketDayHigh_y'])\n",
    "indata = indata.drop(columns=['marketCap_y'])\n",
    "indata = indata.drop(columns=['fiftyTwoWeekLow_y'])\t\n",
    "indata = indata.drop(columns=['fiftyTwoWeekHigh_y'])\n",
    "indata = indata.drop(columns=['fiftyDayAverage_y'])\n",
    "indata = indata.drop(columns=['twoHundredDayAverage_y'])\n",
    "indata = indata.drop(columns=['Adj Close'])\n",
    "indata = indata.drop(columns=['buy'])\n",
    "\n",
    "display(indata.head())"
   ]
  },
  {
   "cell_type": "code",
   "execution_count": null,
   "id": "9465b080-8bb6-458e-b7a1-f0ef95acc93a",
   "metadata": {},
   "outputs": [],
   "source": [
    "indata['best'] = indata['High_x'] - indata['Close_x']\n",
    "indata['worst'] = indata['Low_x'] - indata['Close_x']\n",
    "display(indata.head())"
   ]
  },
  {
   "cell_type": "code",
   "execution_count": null,
   "id": "25a2d1ec-19c5-44b5-b3ab-8b5c8225ecf0",
   "metadata": {},
   "outputs": [],
   "source": [
    "total_spent = indata['Close_x'].sum()\n",
    "best_case = indata['best'].sum()\n",
    "worst_case = indata['worst'].sum()\n",
    "\n",
    "print(\"total = \", total_spent, \"\\tbest = \", best_case, \"\\tworst = \", worst_case)\n",
    "print(\"good increase = \", (total_spent + best_case)/total_spent)\n",
    "print(\"bad increase = \", (total_spent + worst_case)/total_spent)\n",
    "print(\"average = \", (best_case + worst_case)/2)"
   ]
  },
  {
   "cell_type": "code",
   "execution_count": null,
   "id": "1b49153b-fff9-41a4-8fe2-9275a9d328ca",
   "metadata": {},
   "outputs": [],
   "source": []
  },
  {
   "cell_type": "code",
   "execution_count": null,
   "id": "b77f39aa-6d6c-4a6d-812b-28045efe48fe",
   "metadata": {},
   "outputs": [],
   "source": []
  },
  {
   "cell_type": "code",
   "execution_count": null,
   "id": "234f37ae-9332-4085-b42b-7b106da83857",
   "metadata": {},
   "outputs": [],
   "source": []
  },
  {
   "cell_type": "code",
   "execution_count": null,
   "id": "5dd04b5a-2a95-4142-8850-2b1fb4c4d729",
   "metadata": {},
   "outputs": [],
   "source": [
    "from sec_api import QueryApi   #limited queries\n",
    "#api doc here:  https://pypi.org/project/sec-api/\n",
    "\n",
    "queryApi = QueryApi(api_key=\"7e43b1f15004f83d1864f291b09eb9a3aa946c18349ef82b4be3aa13d9e617a0\")\n",
    "\n",
    "query = {\n",
    "  \"query\": \"ticker:AAL AND filedAt:[2020-12-31 TO 2021-12-31] AND formType:\\\"10-Q\\\"\",\n",
    "  \"from\": \"0\",\n",
    "  \"size\": \"10\",\n",
    "  \"sort\": [{ \"filedAt\": { \"order\": \"desc\" } }]\n",
    "}\n",
    "\n",
    "filings = queryApi.get_filings(query)\n",
    "\n",
    "print(filings)"
   ]
  },
  {
   "cell_type": "code",
   "execution_count": null,
   "id": "3bca3dd8-0749-49a0-b4fb-a6a7d2dc3cd1",
   "metadata": {},
   "outputs": [],
   "source": [
    "print(len(filings))\n",
    "for item in filings:\n",
    "    print(item)\n",
    "#print(filings.keys())\n",
    "#print(filings['total'])\n",
    "#print(filings['filings'])\n",
    "#print(filings['query'])\n"
   ]
  },
  {
   "cell_type": "code",
   "execution_count": null,
   "id": "b7ff3c0b-1a4c-4a7f-8f23-90bb129ce908",
   "metadata": {},
   "outputs": [],
   "source": [
    "for key in filings['filings'][0].keys():\n",
    "    print(key, ':', filings['filings'][0][key])\n",
    "    print('\\n')"
   ]
  },
  {
   "cell_type": "code",
   "execution_count": null,
   "id": "98d68fa9-f01e-4563-adb8-1522e7020569",
   "metadata": {},
   "outputs": [],
   "source": [
    "for key in filings['filings'][1].keys():\n",
    "    print(key, ':', filings['filings'][0][key])\n",
    "    print('\\n')"
   ]
  },
  {
   "cell_type": "code",
   "execution_count": null,
   "id": "b9886c01-982c-43e1-bf09-56e299012792",
   "metadata": {},
   "outputs": [],
   "source": [
    "print(len(filings['filings'][0]['documentFormatFiles']))\n",
    "for item in filings['filings'][0]['documentFormatFiles']:\n",
    "    print(item)"
   ]
  },
  {
   "cell_type": "code",
   "execution_count": null,
   "id": "dac2d8fe-f867-4937-9a9f-1251e21e62a7",
   "metadata": {},
   "outputs": [],
   "source": [
    "print(len(filings['filings'][0]['entities']))\n",
    "for item in filings['filings'][0]['entities']:\n",
    "    print(item)"
   ]
  },
  {
   "cell_type": "code",
   "execution_count": null,
   "id": "b23aa096-124b-4cea-8b26-df57507cb54e",
   "metadata": {},
   "outputs": [],
   "source": [
    "print(len(filings['filings'][0]['dataFiles']))\n",
    "for item in filings['filings'][0]['dataFiles']:\n",
    "    print(item)"
   ]
  },
  {
   "cell_type": "code",
   "execution_count": null,
   "id": "e92e8ca8-7268-4bf3-80cf-69c5abc13f25",
   "metadata": {},
   "outputs": [],
   "source": []
  },
  {
   "cell_type": "code",
   "execution_count": null,
   "id": "def43060",
   "metadata": {},
   "outputs": [],
   "source": []
  },
  {
   "cell_type": "code",
   "execution_count": null,
   "id": "66199576",
   "metadata": {},
   "outputs": [],
   "source": []
  },
  {
   "cell_type": "code",
   "execution_count": null,
   "id": "deb7cc66",
   "metadata": {},
   "outputs": [],
   "source": []
  },
  {
   "cell_type": "code",
   "execution_count": null,
   "id": "49466569",
   "metadata": {},
   "outputs": [],
   "source": [
    "df = pd.read_csv('nasdaq_screener_1712527070153.csv')\n",
    "stock_symbols = df['Symbol'].tolist()\n",
    "print(stock_symbols)\n",
    "\n"
   ]
  },
  {
   "cell_type": "code",
   "execution_count": null,
   "id": "caa2d28f",
   "metadata": {},
   "outputs": [],
   "source": [
    "#https://pypi.org/project/yfinance/\n",
    "#https://github.com/ranaroussi/yfinance/wiki/Tickers\n",
    "\n",
    "for stock in stock_symbols:\n",
    "    multi_data = yf.download(stock, start=\"2024-04-16\", end=\"2024-04-26\", progress=False)\n",
    "    \n",
    "display(multi_data)"
   ]
  },
  {
   "cell_type": "code",
   "execution_count": null,
   "id": "7b4d3f45",
   "metadata": {},
   "outputs": [],
   "source": [
    "print(dir(yf.download))"
   ]
  },
  {
   "cell_type": "code",
   "execution_count": null,
   "id": "259dbda3",
   "metadata": {},
   "outputs": [],
   "source": []
  }
 ],
 "metadata": {
  "kernelspec": {
   "display_name": "Python 3 (ipykernel)",
   "language": "python",
   "name": "python3"
  },
  "language_info": {
   "codemirror_mode": {
    "name": "ipython",
    "version": 3
   },
   "file_extension": ".py",
   "mimetype": "text/x-python",
   "name": "python",
   "nbconvert_exporter": "python",
   "pygments_lexer": "ipython3",
   "version": "3.9.15"
  }
 },
 "nbformat": 4,
 "nbformat_minor": 5
}
